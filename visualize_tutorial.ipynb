{
 "cells": [
  {
   "cell_type": "markdown",
   "metadata": {
    "collapsed": true
   },
   "source": [
    "## Visualization"
   ]
  },
  {
   "cell_type": "code",
   "execution_count": 1,
   "metadata": {},
   "outputs": [],
   "source": [
    "from analyze import Classifier\n",
    "import torch"
   ]
  },
  {
   "cell_type": "code",
   "execution_count": 8,
   "metadata": {},
   "outputs": [],
   "source": [
    "# Set word2vec model, config file\n",
    "word2vec_config_path = \"word2vec/2/config.json\"\n",
    "word2vec_model_path = \"word2vec/2/word2vec.model\"\n",
    "\n",
    "# Set trained model, config file\n",
    "HAN_mdoel_path = \"word2vec/2/6/model1.pwf\"\n",
    "HAN_config_path = \"word2vec/2/6/config.json\"\n",
    "\n",
    "# Set tokenizer name\n",
    "tokenizer_name = \"word_tokenizer\"\n",
    "\n",
    "# Set device to use\n",
    "device = torch.device(\"cuda\" if torch.cuda.is_available() else \"cpu\")"
   ]
  },
  {
   "cell_type": "code",
   "execution_count": 9,
   "metadata": {},
   "outputs": [
    {
     "name": "stderr",
     "output_type": "stream",
     "text": [
      "c:\\program files\\python37\\lib\\site-packages\\torch\\nn\\modules\\rnn.py:54: UserWarning: dropout option adds dropout after all but last recurrent layer, so non-zero dropout expects num_layers greater than 1, but got dropout=0.05 and num_layers=1\n",
      "  \"num_layers={}\".format(dropout, num_layers))\n"
     ]
    }
   ],
   "source": [
    "# Load Model\n",
    "model = Classifier(word2vec_config_path=word2vec_config_path,\n",
    "                   word2vec_model_path=word2vec_model_path,\n",
    "                   HAN_mdoel_path=HAN_mdoel_path,\n",
    "                   HAN_config_path=HAN_config_path,\n",
    "                   tokenizer_name=tokenizer_name,\n",
    "                   device=device)"
   ]
  },
  {
   "cell_type": "code",
   "execution_count": 10,
   "metadata": {},
   "outputs": [],
   "source": [
    "## Your document to analyze\n",
    "doc=\"\"\"\n",
    "This movie is amazing because the fact that the real people portray themselves and their real life experience and do such a good job it's like they're almost living the past over again. Jia Hongsheng plays himself an actor who quit everything except music and drugs struggling with depression and searching for the meaning of life while being angry at everyone especially the people who care for him most. There's moments in the movie that will make you wanna cry because the family especially the father did such a good job. However, this movie is not for everyone. Many people who suffer from depression will understand Hongsheng's problem and why he does the things he does for example keep himself shut in a dark room or go for walks or bike rides by himself. Others might see the movie as boring because it's just so real that its almost like a documentary. Overall this movie is great and Hongsheng deserved an Oscar for this movie so did his Dad.\n",
    "\"\"\""
   ]
  },
  {
   "cell_type": "code",
   "execution_count": 11,
   "metadata": {},
   "outputs": [
    {
     "data": {
      "text/markdown": [
       "<span style=\"background-color:rgba(255,0,0,0.012817904353141785);  font-size: 13.35111916065216pt;\">This</span> <span style=\"background-color:rgba(255,0,0,0.012648042291402817);  font-size: 13.35111916065216pt;\">movie</span> <span style=\"background-color:rgba(255,0,0,0.03336979076266289);  font-size: 13.35111916065216pt;\">is</span> <span style=\"background-color:rgba(255,0,0,0.5528309345245361);  font-size: 13.35111916065216pt;\">amazing</span> <span style=\"background-color:rgba(255,0,0,0.030412942171096802);  font-size: 13.35111916065216pt;\">because</span> <span style=\"background-color:rgba(255,0,0,0.011016643606126308);  font-size: 13.35111916065216pt;\">the</span> <span style=\"background-color:rgba(255,0,0,0.02463355101644993);  font-size: 13.35111916065216pt;\">fact</span> <span style=\"background-color:rgba(255,0,0,0.01059758197516203);  font-size: 13.35111916065216pt;\">that</span> <span style=\"background-color:rgba(255,0,0,0.0031055649742484093);  font-size: 13.35111916065216pt;\">the</span> <span style=\"background-color:rgba(255,0,0,0.007447074167430401);  font-size: 13.35111916065216pt;\">real</span> <span style=\"background-color:rgba(255,0,0,0.002507592551410198);  font-size: 13.35111916065216pt;\">people</span> <span style=\"background-color:rgba(255,0,0,0.028404248878359795);  font-size: 13.35111916065216pt;\">portray</span> <span style=\"background-color:rgba(255,0,0,0.012844531796872616);  font-size: 13.35111916065216pt;\">themselves</span> <span style=\"background-color:rgba(255,0,0,0.007667114492505789);  font-size: 13.35111916065216pt;\">and</span> <span style=\"background-color:rgba(255,0,0,0.007307601626962423);  font-size: 13.35111916065216pt;\">their</span> <span style=\"background-color:rgba(255,0,0,0.010758995078504086);  font-size: 13.35111916065216pt;\">real</span> <span style=\"background-color:rgba(255,0,0,0.004095852375030518);  font-size: 13.35111916065216pt;\">life</span> <span style=\"background-color:rgba(255,0,0,0.010080812498927116);  font-size: 13.35111916065216pt;\">experience</span> <span style=\"background-color:rgba(255,0,0,0.01183249056339264);  font-size: 13.35111916065216pt;\">and</span> <span style=\"background-color:rgba(255,0,0,0.010700250044465065);  font-size: 13.35111916065216pt;\">do</span> <span style=\"background-color:rgba(255,0,0,0.06962084025144577);  font-size: 13.35111916065216pt;\">such</span> <span style=\"background-color:rgba(255,0,0,0.02554747648537159);  font-size: 13.35111916065216pt;\">a</span> <span style=\"background-color:rgba(255,0,0,0.024290384724736214);  font-size: 13.35111916065216pt;\">good</span> <span style=\"background-color:rgba(255,0,0,0.010548507794737816);  font-size: 13.35111916065216pt;\">job</span> <span style=\"background-color:rgba(255,0,0,0.0036803216207772493);  font-size: 13.35111916065216pt;\">it</span> <span style=\"background-color:rgba(255,0,0,0.007862554863095284);  font-size: 13.35111916065216pt;\">'s</span> <span style=\"background-color:rgba(255,0,0,0.024751607328653336);  font-size: 13.35111916065216pt;\">like</span> <span style=\"background-color:rgba(255,0,0,0.006016893312335014);  font-size: 13.35111916065216pt;\">they</span> <span style=\"background-color:rgba(255,0,0,0.0052681309171020985);  font-size: 13.35111916065216pt;\">'re</span> <span style=\"background-color:rgba(255,0,0,0.005908033810555935);  font-size: 13.35111916065216pt;\">almost</span> <span style=\"background-color:rgba(255,0,0,0.0017194405663758516);  font-size: 13.35111916065216pt;\">living</span> <span style=\"background-color:rgba(255,0,0,0.0009334512869827449);  font-size: 13.35111916065216pt;\">the</span> <span style=\"background-color:rgba(255,0,0,0.0011307349195703864);  font-size: 13.35111916065216pt;\">past</span> <span style=\"background-color:rgba(255,0,0,0.0022405660711228848);  font-size: 13.35111916065216pt;\">over</span> <span style=\"background-color:rgba(255,0,0,0.0027905500028282404);  font-size: 13.35111916065216pt;\">again</span> <span style=\"background-color:rgba(255,0,0,0.0026109423488378525);  font-size: 13.35111916065216pt;\">.</span>"
      ],
      "text/plain": [
       "<IPython.core.display.Markdown object>"
      ]
     },
     "metadata": {},
     "output_type": "display_data"
    },
    {
     "data": {
      "text/markdown": [
       "<span style=\"background-color:rgba(255,0,0,0.09719473123550415);  font-size: 7.787330895662308pt;\">Jia</span> <span style=\"background-color:rgba(255,0,0,0.06583535671234131);  font-size: 7.787330895662308pt;\">Hongsheng</span> <span style=\"background-color:rgba(255,0,0,0.03915303200483322);  font-size: 7.787330895662308pt;\">plays</span> <span style=\"background-color:rgba(255,0,0,0.022532152011990547);  font-size: 7.787330895662308pt;\">himself</span> <span style=\"background-color:rgba(255,0,0,0.0357869528234005);  font-size: 7.787330895662308pt;\">an</span> <span style=\"background-color:rgba(255,0,0,0.023528506979346275);  font-size: 7.787330895662308pt;\">actor</span> <span style=\"background-color:rgba(255,0,0,0.007671406026929617);  font-size: 7.787330895662308pt;\">who</span> <span style=\"background-color:rgba(255,0,0,0.04225238412618637);  font-size: 7.787330895662308pt;\">quit</span> <span style=\"background-color:rgba(255,0,0,0.028674019500613213);  font-size: 7.787330895662308pt;\">everything</span> <span style=\"background-color:rgba(255,0,0,0.06381111592054367);  font-size: 7.787330895662308pt;\">except</span> <span style=\"background-color:rgba(255,0,0,0.06235262379050255);  font-size: 7.787330895662308pt;\">music</span> <span style=\"background-color:rgba(255,0,0,0.02374531328678131);  font-size: 7.787330895662308pt;\">and</span> <span style=\"background-color:rgba(255,0,0,0.019789157435297966);  font-size: 7.787330895662308pt;\">drugs</span> <span style=\"background-color:rgba(255,0,0,0.02968224324285984);  font-size: 7.787330895662308pt;\">struggling</span> <span style=\"background-color:rgba(255,0,0,0.037524446845054626);  font-size: 7.787330895662308pt;\">with</span> <span style=\"background-color:rgba(255,0,0,0.05407324805855751);  font-size: 7.787330895662308pt;\">depression</span> <span style=\"background-color:rgba(255,0,0,0.023886173963546753);  font-size: 7.787330895662308pt;\">and</span> <span style=\"background-color:rgba(255,0,0,0.028446892276406288);  font-size: 7.787330895662308pt;\">searching</span> <span style=\"background-color:rgba(255,0,0,0.016574576497077942);  font-size: 7.787330895662308pt;\">for</span> <span style=\"background-color:rgba(255,0,0,0.008835443295538425);  font-size: 7.787330895662308pt;\">the</span> <span style=\"background-color:rgba(255,0,0,0.0149972690269351);  font-size: 7.787330895662308pt;\">meaning</span> <span style=\"background-color:rgba(255,0,0,0.008886848576366901);  font-size: 7.787330895662308pt;\">of</span> <span style=\"background-color:rgba(255,0,0,0.006870021112263203);  font-size: 7.787330895662308pt;\">life</span> <span style=\"background-color:rgba(255,0,0,0.005954447202384472);  font-size: 7.787330895662308pt;\">while</span> <span style=\"background-color:rgba(255,0,0,0.005396942142397165);  font-size: 7.787330895662308pt;\">being</span> <span style=\"background-color:rgba(255,0,0,0.012664035893976688);  font-size: 7.787330895662308pt;\">angry</span> <span style=\"background-color:rgba(255,0,0,0.0046682897955179214);  font-size: 7.787330895662308pt;\">at</span> <span style=\"background-color:rgba(255,0,0,0.007483117748051882);  font-size: 7.787330895662308pt;\">everyone</span> <span style=\"background-color:rgba(255,0,0,0.019630910828709602);  font-size: 7.787330895662308pt;\">especially</span> <span style=\"background-color:rgba(255,0,0,0.004614224657416344);  font-size: 7.787330895662308pt;\">the</span> <span style=\"background-color:rgba(255,0,0,0.004194145556539297);  font-size: 7.787330895662308pt;\">people</span> <span style=\"background-color:rgba(255,0,0,0.004715124610811472);  font-size: 7.787330895662308pt;\">who</span> <span style=\"background-color:rgba(255,0,0,0.023694828152656555);  font-size: 7.787330895662308pt;\">care</span> <span style=\"background-color:rgba(255,0,0,0.011685386300086975);  font-size: 7.787330895662308pt;\">for</span> <span style=\"background-color:rgba(255,0,0,0.009873376227915287);  font-size: 7.787330895662308pt;\">him</span> <span style=\"background-color:rgba(255,0,0,0.09211932122707367);  font-size: 7.787330895662308pt;\">most</span> <span style=\"background-color:rgba(255,0,0,0.031201835721731186);  font-size: 7.787330895662308pt;\">.</span>"
      ],
      "text/plain": [
       "<IPython.core.display.Markdown object>"
      ]
     },
     "metadata": {},
     "output_type": "display_data"
    },
    {
     "data": {
      "text/markdown": [
       "<span style=\"background-color:rgba(255,0,0,0.005554138217121363);  font-size: 5.64082033932209pt;\">There</span> <span style=\"background-color:rgba(255,0,0,0.0164094977080822);  font-size: 5.64082033932209pt;\">'s</span> <span style=\"background-color:rgba(255,0,0,0.013100295327603817);  font-size: 5.64082033932209pt;\">moments</span> <span style=\"background-color:rgba(255,0,0,0.004851314704865217);  font-size: 5.64082033932209pt;\">in</span> <span style=\"background-color:rgba(255,0,0,0.005222429987043142);  font-size: 5.64082033932209pt;\">the</span> <span style=\"background-color:rgba(255,0,0,0.013135083019733429);  font-size: 5.64082033932209pt;\">movie</span> <span style=\"background-color:rgba(255,0,0,0.010332345962524414);  font-size: 5.64082033932209pt;\">that</span> <span style=\"background-color:rgba(255,0,0,0.0381910540163517);  font-size: 5.64082033932209pt;\">will</span> <span style=\"background-color:rgba(255,0,0,0.08778364956378937);  font-size: 5.64082033932209pt;\">make</span> <span style=\"background-color:rgba(255,0,0,0.045868564397096634);  font-size: 5.64082033932209pt;\">you</span> <span style=\"background-color:rgba(255,0,0,0.21477073431015015);  font-size: 5.64082033932209pt;\">wan</span> <span style=\"background-color:rgba(255,0,0,0.14388424158096313);  font-size: 5.64082033932209pt;\">na</span> <span style=\"background-color:rgba(255,0,0,0.04213889315724373);  font-size: 5.64082033932209pt;\">cry</span> <span style=\"background-color:rgba(255,0,0,0.009843201376497746);  font-size: 5.64082033932209pt;\">because</span> <span style=\"background-color:rgba(255,0,0,0.00530862994492054);  font-size: 5.64082033932209pt;\">the</span> <span style=\"background-color:rgba(255,0,0,0.006340742576867342);  font-size: 5.64082033932209pt;\">family</span> <span style=\"background-color:rgba(255,0,0,0.01944240927696228);  font-size: 5.64082033932209pt;\">especially</span> <span style=\"background-color:rgba(255,0,0,0.006084064487367868);  font-size: 5.64082033932209pt;\">the</span> <span style=\"background-color:rgba(255,0,0,0.005948325619101524);  font-size: 5.64082033932209pt;\">father</span> <span style=\"background-color:rgba(255,0,0,0.03227502107620239);  font-size: 5.64082033932209pt;\">did</span> <span style=\"background-color:rgba(255,0,0,0.11533743888139725);  font-size: 5.64082033932209pt;\">such</span> <span style=\"background-color:rgba(255,0,0,0.04285557195544243);  font-size: 5.64082033932209pt;\">a</span> <span style=\"background-color:rgba(255,0,0,0.0562613420188427);  font-size: 5.64082033932209pt;\">good</span> <span style=\"background-color:rgba(255,0,0,0.0425918884575367);  font-size: 5.64082033932209pt;\">job</span> <span style=\"background-color:rgba(255,0,0,0.01646922156214714);  font-size: 5.64082033932209pt;\">.</span>"
      ],
      "text/plain": [
       "<IPython.core.display.Markdown object>"
      ]
     },
     "metadata": {},
     "output_type": "display_data"
    },
    {
     "data": {
      "text/markdown": [
       "<span style=\"background-color:rgba(255,0,0,0.06652407348155975);  font-size: 11.084438860416412pt;\">However</span> <span style=\"background-color:rgba(255,0,0,0.042278774082660675);  font-size: 11.084438860416412pt;\">,</span> <span style=\"background-color:rgba(255,0,0,0.22965268790721893);  font-size: 11.084438860416412pt;\">this</span> <span style=\"background-color:rgba(255,0,0,0.09837084263563156);  font-size: 11.084438860416412pt;\">movie</span> <span style=\"background-color:rgba(255,0,0,0.22164146602153778);  font-size: 11.084438860416412pt;\">is</span> <span style=\"background-color:rgba(255,0,0,0.2354889214038849);  font-size: 11.084438860416412pt;\">not</span> <span style=\"background-color:rgba(255,0,0,0.031383808702230453);  font-size: 11.084438860416412pt;\">for</span> <span style=\"background-color:rgba(255,0,0,0.03665662184357643);  font-size: 11.084438860416412pt;\">everyone</span> <span style=\"background-color:rgba(255,0,0,0.038002852350473404);  font-size: 11.084438860416412pt;\">.</span>"
      ],
      "text/plain": [
       "<IPython.core.display.Markdown object>"
      ]
     },
     "metadata": {},
     "output_type": "display_data"
    },
    {
     "data": {
      "text/markdown": [
       "<span style=\"background-color:rgba(255,0,0,0.039735712110996246);  font-size: 4.960153475403786pt;\">Many</span> <span style=\"background-color:rgba(255,0,0,0.007902688346803188);  font-size: 4.960153475403786pt;\">people</span> <span style=\"background-color:rgba(255,0,0,0.006600488908588886);  font-size: 4.960153475403786pt;\">who</span> <span style=\"background-color:rgba(255,0,0,0.01637318544089794);  font-size: 4.960153475403786pt;\">suffer</span> <span style=\"background-color:rgba(255,0,0,0.02023441158235073);  font-size: 4.960153475403786pt;\">from</span> <span style=\"background-color:rgba(255,0,0,0.020398661494255066);  font-size: 4.960153475403786pt;\">depression</span> <span style=\"background-color:rgba(255,0,0,0.026236146688461304);  font-size: 4.960153475403786pt;\">will</span> <span style=\"background-color:rgba(255,0,0,0.04530997946858406);  font-size: 4.960153475403786pt;\">understand</span> <span style=\"background-color:rgba(255,0,0,0.05317641422152519);  font-size: 4.960153475403786pt;\">Hongsheng</span> <span style=\"background-color:rgba(255,0,0,0.03408217057585716);  font-size: 4.960153475403786pt;\">'s</span> <span style=\"background-color:rgba(255,0,0,0.048610150814056396);  font-size: 4.960153475403786pt;\">problem</span> <span style=\"background-color:rgba(255,0,0,0.030377816408872604);  font-size: 4.960153475403786pt;\">and</span> <span style=\"background-color:rgba(255,0,0,0.04985875263810158);  font-size: 4.960153475403786pt;\">why</span> <span style=\"background-color:rgba(255,0,0,0.03382761403918266);  font-size: 4.960153475403786pt;\">he</span> <span style=\"background-color:rgba(255,0,0,0.04099371284246445);  font-size: 4.960153475403786pt;\">does</span> <span style=\"background-color:rgba(255,0,0,0.01124978344887495);  font-size: 4.960153475403786pt;\">the</span> <span style=\"background-color:rgba(255,0,0,0.015254691243171692);  font-size: 4.960153475403786pt;\">things</span> <span style=\"background-color:rgba(255,0,0,0.01609717682003975);  font-size: 4.960153475403786pt;\">he</span> <span style=\"background-color:rgba(255,0,0,0.032241128385066986);  font-size: 4.960153475403786pt;\">does</span> <span style=\"background-color:rgba(255,0,0,0.016131144016981125);  font-size: 4.960153475403786pt;\">for</span> <span style=\"background-color:rgba(255,0,0,0.05759343504905701);  font-size: 4.960153475403786pt;\">example</span> <span style=\"background-color:rgba(255,0,0,0.18743449449539185);  font-size: 4.960153475403786pt;\">keep</span> <span style=\"background-color:rgba(255,0,0,0.024968205019831657);  font-size: 4.960153475403786pt;\">himself</span> <span style=\"background-color:rgba(255,0,0,0.027348970994353294);  font-size: 4.960153475403786pt;\">shut</span> <span style=\"background-color:rgba(255,0,0,0.006187895778566599);  font-size: 4.960153475403786pt;\">in</span> <span style=\"background-color:rgba(255,0,0,0.006755438633263111);  font-size: 4.960153475403786pt;\">a</span> <span style=\"background-color:rgba(255,0,0,0.010984194464981556);  font-size: 4.960153475403786pt;\">dark</span> <span style=\"background-color:rgba(255,0,0,0.005763675086200237);  font-size: 4.960153475403786pt;\">room</span> <span style=\"background-color:rgba(255,0,0,0.005700062960386276);  font-size: 4.960153475403786pt;\">or</span> <span style=\"background-color:rgba(255,0,0,0.009180239401757717);  font-size: 4.960153475403786pt;\">go</span> <span style=\"background-color:rgba(255,0,0,0.007417694665491581);  font-size: 4.960153475403786pt;\">for</span> <span style=\"background-color:rgba(255,0,0,0.014632887206971645);  font-size: 4.960153475403786pt;\">walks</span> <span style=\"background-color:rgba(255,0,0,0.007288183551281691);  font-size: 4.960153475403786pt;\">or</span> <span style=\"background-color:rgba(255,0,0,0.011817796155810356);  font-size: 4.960153475403786pt;\">bike</span> <span style=\"background-color:rgba(255,0,0,0.007644189987331629);  font-size: 4.960153475403786pt;\">rides</span> <span style=\"background-color:rgba(255,0,0,0.012578624300658703);  font-size: 4.960153475403786pt;\">by</span> <span style=\"background-color:rgba(255,0,0,0.017142491415143013);  font-size: 4.960153475403786pt;\">himself</span> <span style=\"background-color:rgba(255,0,0,0.014869718812406063);  font-size: 4.960153475403786pt;\">.</span>"
      ],
      "text/plain": [
       "<IPython.core.display.Markdown object>"
      ]
     },
     "metadata": {},
     "output_type": "display_data"
    },
    {
     "data": {
      "text/markdown": [
       "<span style=\"background-color:rgba(255,0,0,0.06909575313329697);  font-size: 9.583368748426437pt;\">Others</span> <span style=\"background-color:rgba(255,0,0,0.017370693385601044);  font-size: 9.583368748426437pt;\">might</span> <span style=\"background-color:rgba(255,0,0,0.03867350146174431);  font-size: 9.583368748426437pt;\">see</span> <span style=\"background-color:rgba(255,0,0,0.004819048568606377);  font-size: 9.583368748426437pt;\">the</span> <span style=\"background-color:rgba(255,0,0,0.008685193955898285);  font-size: 9.583368748426437pt;\">movie</span> <span style=\"background-color:rgba(255,0,0,0.009007620625197887);  font-size: 9.583368748426437pt;\">as</span> <span style=\"background-color:rgba(255,0,0,0.14081236720085144);  font-size: 9.583368748426437pt;\">boring</span> <span style=\"background-color:rgba(255,0,0,0.014465958811342716);  font-size: 9.583368748426437pt;\">because</span> <span style=\"background-color:rgba(255,0,0,0.007981793954968452);  font-size: 9.583368748426437pt;\">it</span> <span style=\"background-color:rgba(255,0,0,0.01615801639854908);  font-size: 9.583368748426437pt;\">'s</span> <span style=\"background-color:rgba(255,0,0,0.041672855615615845);  font-size: 9.583368748426437pt;\">just</span> <span style=\"background-color:rgba(255,0,0,0.1325218230485916);  font-size: 9.583368748426437pt;\">so</span> <span style=\"background-color:rgba(255,0,0,0.27640077471733093);  font-size: 9.583368748426437pt;\">real</span> <span style=\"background-color:rgba(255,0,0,0.026967069134116173);  font-size: 9.583368748426437pt;\">that</span> <span style=\"background-color:rgba(255,0,0,0.013454848900437355);  font-size: 9.583368748426437pt;\">its</span> <span style=\"background-color:rgba(255,0,0,0.04991510137915611);  font-size: 9.583368748426437pt;\">almost</span> <span style=\"background-color:rgba(255,0,0,0.07997623831033707);  font-size: 9.583368748426437pt;\">like</span> <span style=\"background-color:rgba(255,0,0,0.010975517332553864);  font-size: 9.583368748426437pt;\">a</span> <span style=\"background-color:rgba(255,0,0,0.025708917528390884);  font-size: 9.583368748426437pt;\">documentary</span> <span style=\"background-color:rgba(255,0,0,0.015336777083575726);  font-size: 9.583368748426437pt;\">.</span>"
      ],
      "text/plain": [
       "<IPython.core.display.Markdown object>"
      ]
     },
     "metadata": {},
     "output_type": "display_data"
    },
    {
     "data": {
      "text/markdown": [
       "<span style=\"background-color:rgba(255,0,0,0.06547374278306961);  font-size: 17.592765390872955pt;\">Overall</span> <span style=\"background-color:rgba(255,0,0,0.03929261118173599);  font-size: 17.592765390872955pt;\">this</span> <span style=\"background-color:rgba(255,0,0,0.018164150416851044);  font-size: 17.592765390872955pt;\">movie</span> <span style=\"background-color:rgba(255,0,0,0.04294704273343086);  font-size: 17.592765390872955pt;\">is</span> <span style=\"background-color:rgba(255,0,0,0.15335023403167725);  font-size: 17.592765390872955pt;\">great</span> <span style=\"background-color:rgba(255,0,0,0.04754478856921196);  font-size: 17.592765390872955pt;\">and</span> <span style=\"background-color:rgba(255,0,0,0.12231532484292984);  font-size: 17.592765390872955pt;\">Hongsheng</span> <span style=\"background-color:rgba(255,0,0,0.166155144572258);  font-size: 17.592765390872955pt;\">deserved</span> <span style=\"background-color:rgba(255,0,0,0.05608871579170227);  font-size: 17.592765390872955pt;\">an</span> <span style=\"background-color:rgba(255,0,0,0.12564478814601898);  font-size: 17.592765390872955pt;\">Oscar</span> <span style=\"background-color:rgba(255,0,0,0.019515221938490868);  font-size: 17.592765390872955pt;\">for</span> <span style=\"background-color:rgba(255,0,0,0.0380387045443058);  font-size: 17.592765390872955pt;\">this</span> <span style=\"background-color:rgba(255,0,0,0.014301691204309464);  font-size: 17.592765390872955pt;\">movie</span> <span style=\"background-color:rgba(255,0,0,0.025085631757974625);  font-size: 17.592765390872955pt;\">so</span> <span style=\"background-color:rgba(255,0,0,0.04551495239138603);  font-size: 17.592765390872955pt;\">did</span> <span style=\"background-color:rgba(255,0,0,0.00789208896458149);  font-size: 17.592765390872955pt;\">his</span> <span style=\"background-color:rgba(255,0,0,0.00904808659106493);  font-size: 17.592765390872955pt;\">Dad</span> <span style=\"background-color:rgba(255,0,0,0.003627124009653926);  font-size: 17.592765390872955pt;\">.</span>"
      ],
      "text/plain": [
       "<IPython.core.display.Markdown object>"
      ]
     },
     "metadata": {},
     "output_type": "display_data"
    }
   ],
   "source": [
    "model.view(doc)"
   ]
  }
 ],
 "metadata": {
  "kernelspec": {
   "display_name": "Python 3",
   "language": "python",
   "name": "python3"
  },
  "language_info": {
   "codemirror_mode": {
    "name": "ipython",
    "version": 3
   },
   "file_extension": ".py",
   "mimetype": "text/x-python",
   "name": "python",
   "nbconvert_exporter": "python",
   "pygments_lexer": "ipython3",
   "version": "3.7.3"
  }
 },
 "nbformat": 4,
 "nbformat_minor": 1
}
